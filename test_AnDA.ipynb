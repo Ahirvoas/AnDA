{
 "cells": [
  {
   "cell_type": "markdown",
   "metadata": {
    "nbpresent": {
     "id": "76428090-b279-4d85-b5bc-e0fdefafc294"
    }
   },
   "source": [
    "# PROBLEM STATEMENT\n",
    "\n",
    "Data assimilation are numerical methods used in geosciences to mix the information of observations (noted as $y$) and a dynamical model (noted as $f$) in order to estimate the true/hidden state of the system (noted as $x$) at every time step $k$. Usually, they are related following a nonlinear state-space model:\n",
    "<img src=https://tandeo.files.wordpress.com/2019/02/formule_nnss_model.png width=\"200\">\n",
    "with $\\eta$ and $\\epsilon$ some independant white Gaussian noises respectively respresenting the model forecast error and the error of observation.\n",
    "\n",
    "In classical data assimilation, we require multiple runs of an explicit dynamical model $f$ with possible severe limitations including the computational cost, the lack of consistency of the model with respect to the observed data as well as modeling uncertainties. Here, an alternative strategy is explored by developing a fully data-driven assimilation. No explicit knowledge of the dynamical model is required. Only a representative catalog of trajectories of the system is assumed to be available. Based on this catalog, the Analog Data Assimilation (AnDA) is introduced by combining machine learning with the analog method (or nearest neighbor search) and stochastic assimilation techniques including Ensemble Kalman Filter and Smoother (EnKF, EnKS) and Particle Filter (PF). We test the accuracy of the technic on different chaotic dynamical models, the Lorenz-63 and Lorenz-96 systems.\n",
    "\n",
    "This Python library is attached to the following publication:\n",
    "Lguensat, R., Tandeo, P., Ailliot, P., Pulido, M., & Fablet, R. (2017). The Analog Data Assimilation. *Monthly Weather Review*, 145(10), 4093-4107.\n",
    "If you use this library, please do not forget to cite our work."
   ]
  },
  {
   "cell_type": "markdown",
   "metadata": {
    "nbpresent": {
     "id": "af657441-0912-4749-b537-6e1734f875bb"
    }
   },
   "source": [
    "# IMPORT MODULES\n",
    "\n",
    "Here, we import the different Python libraries and modules. In order to use the analog methog (or nearest neighboor search), we need to install the \"scikit-learn\" library (available at http://scikit-learn.org/). You also need to download the \"tqdm\" library to display the progress bar (available at https://tqdm.github.io/). Both libraries can be installed using pip or conda."
   ]
  },
  {
   "cell_type": "code",
   "execution_count": 1,
   "metadata": {
    "nbpresent": {
     "id": "f975dd20-65cf-43f8-8a6e-96f2acbad4e4"
    }
   },
   "outputs": [
    {
     "name": "stdout",
     "output_type": "stream",
     "text": [
      "Populating the interactive namespace from numpy and matplotlib\n"
     ]
    }
   ],
   "source": [
    "%load_ext autoreload\n",
    "%autoreload 2\n",
    "%pylab inline\n",
    "%matplotlib inline\n",
    "pylab.rcParams['figure.figsize'] = (16, 9)\n",
    "\n",
    "# analog data assimilation\n",
    "from AnDA_codes.AnDA_generate_data import AnDA_generate_data\n",
    "from AnDA_codes.AnDA_analog_forecasting import AnDA_analog_forecasting\n",
    "from AnDA_codes.AnDA_model_forecasting import AnDA_model_forecasting\n",
    "from AnDA_codes.AnDA_data_assimilation import AnDA_data_assimilation\n",
    "from AnDA_codes.AnDA_stat_functions import AnDA_RMSE\n",
    "\n",
    "# 3D plots\n",
    "from mpl_toolkits.mplot3d import Axes3D"
   ]
  },
  {
   "cell_type": "markdown",
   "metadata": {
    "nbpresent": {
     "id": "702967c4-5161-4544-a9f1-88cd5d0155da"
    }
   },
   "source": [
    "# TEST ON LORENZ-63\n",
    "\n",
    "To begin, as dynamical model $f$, we use the Lorenz-63 chaotic system. First, we generate simulated trajectories from this dynamical model and store them into the catalog. Then, we use this catalog to emulate the dynamical model and we apply the analog data assimilation. Finally, we compare the results of this data-driven approach to the classical data assimilation (using the true Lorenz-63 equations as dynamical model)."
   ]
  },
  {
   "cell_type": "code",
   "execution_count": 2,
   "metadata": {
    "nbpresent": {
     "id": "81f56606-9081-47fd-8968-13d85c93063c"
    },
    "scrolled": true
   },
   "outputs": [],
   "source": [
    "### GENERATE SIMULATED DATA (LORENZ-63 MODEL)\n",
    "\n",
    "# parameters\n",
    "class GD:\n",
    "    model = 'Lorenz_63'\n",
    "    class parameters:\n",
    "        sigma = 10.0\n",
    "        rho = 28.0\n",
    "        beta = 8.0/3\n",
    "    dt_integration = 0.01 # integration time\n",
    "    dt_states = 1 # number of integeration times between consecutive states (for xt and catalog)\n",
    "    dt_obs = 8 # number of integration times between consecutive observations (for yo)\n",
    "    var_obs = np.array([0]) # indices of the observed variables\n",
    "    nb_loop_train = 10**2 # size of the catalog\n",
    "    nb_loop_test = 10 # size of the true state and noisy observations\n",
    "    sigma2_catalog = 0.0 # variance of the model error to generate the catalog\n",
    "    sigma2_obs = 2.0 # variance of the observation error to generate observation\n",
    "    \n",
    "# run the data generation\n",
    "catalog, xt, yo = AnDA_generate_data(GD)"
   ]
  },
  {
   "cell_type": "code",
   "execution_count": null,
   "metadata": {
    "nbpresent": {
     "id": "241f9ce2-fe11-4533-be8f-991a700f3920"
    }
   },
   "outputs": [],
   "source": [
    "### PLOT STATE, OBSERVATIONS AND CATALOG\n",
    "\n",
    "# state and observations (when available)\n",
    "line1,=plt.plot(xt.time,xt.values[:,0],'-r');plt.plot(yo.time,yo.values[:,0],'.r')\n",
    "line2,=plt.plot(xt.time,xt.values[:,1],'-b');plt.plot(yo.time,yo.values[:,1],'.b')\n",
    "line3,=plt.plot(xt.time,xt.values[:,2],'-g');plt.plot(yo.time,yo.values[:,2],'.g')\n",
    "plt.xlabel('Lorenz-63 times')\n",
    "plt.legend([line1, line2, line3], ['$x_1$', '$x_2$', '$x_3$'])\n",
    "plt.title('Lorenz-63 true (continuous lines) and observed trajectories (points)')\n",
    "\n",
    "# catalog sample of simulated trajectories\n",
    "print('######################')\n",
    "print('SAMPLE OF THE CATALOG:')\n",
    "print('######################')\n",
    "print('Analog (t1): ' + str(catalog.analogs[0,:]), end=\" \")\n",
    "print('Successor (t1+dt): ' + str(catalog.successors[0,:]))\n",
    "print('Analog (t2): ' + str(catalog.analogs[10,:]), end=\" \")\n",
    "print('Successor (t2+dt): ' + str(catalog.successors[10,:]))\n",
    "print('Analog (t3): ' + str(catalog.analogs[20,:]), end=\" \")\n",
    "print('Successor (t3+dt): ' + str(catalog.successors[20,:]))"
   ]
  },
  {
   "cell_type": "code",
   "execution_count": null,
   "metadata": {
    "nbpresent": {
     "id": "837aa478-c139-42fb-9609-b0a98c79fae1"
    }
   },
   "outputs": [],
   "source": [
    "### ANALOG DATA ASSIMILATION (dynamical model given by the catalog)\n",
    "\n",
    "# parameters of the analog forecasting method\n",
    "class AF:\n",
    "    k = 50 # number of analogs\n",
    "    neighborhood = np.ones([xt.values.shape[1],xt.values.shape[1]]) # global analogs\n",
    "    catalog = catalog # catalog with analogs and successors\n",
    "    regression = 'local_linear' # chosen regression ('locally_constant', 'increment', 'local_linear')\n",
    "    sampling = 'gaussian' # chosen sampler ('gaussian', 'multinomial')\n",
    "\n",
    "# parameters of the filtering method\n",
    "class DA:\n",
    "    method = 'AnEnKS' # chosen method ('AnEnKF', 'AnEnKS', 'AnPF')\n",
    "    N = 100 # number of members (AnEnKF/AnEnKS) or particles (AnPF)\n",
    "    xb = xt.values[0,:]; B = 0.1*np.eye(xt.values.shape[1])\n",
    "    H = np.eye(xt.values.shape[1])\n",
    "    R = GD.sigma2_obs*np.eye(xt.values.shape[1])\n",
    "    @staticmethod\n",
    "    def m(x):\n",
    "        return AnDA_analog_forecasting(x,AF)\n",
    "    \n",
    "# run the analog data assimilation\n",
    "x_hat_analog = AnDA_data_assimilation(yo, DA)"
   ]
  },
  {
   "cell_type": "code",
   "execution_count": null,
   "metadata": {
    "nbpresent": {
     "id": "3ed39876-5608-4f08-ba3c-a08d1c1d2c84"
    },
    "scrolled": true
   },
   "outputs": [],
   "source": [
    "### CLASSICAL DATA ASSIMILATION (dynamical model given by the equations)\n",
    "    \n",
    "# parameters of the filtering method\n",
    "class DA:\n",
    "    method = 'AnEnKS' # chosen method ('AnEnKF', 'AnEnKS', 'AnPF')\n",
    "    N = 100 # number of members (AnEnKF/AnEnKS) or particles (AnPF)\n",
    "    xb = xt.values[0,:]; B = 0.1*np.eye(xt.values.shape[1])\n",
    "    H = np.eye(xt.values.shape[1])\n",
    "    R = GD.sigma2_obs*np.eye(xt.values.shape[1])\n",
    "    @staticmethod\n",
    "    def m(x):\n",
    "        return AnDA_model_forecasting(x,GD)\n",
    "    \n",
    "# run the classical data assimilation\n",
    "x_hat_classical = AnDA_data_assimilation(yo, DA)"
   ]
  },
  {
   "cell_type": "code",
   "execution_count": null,
   "metadata": {
    "nbpresent": {
     "id": "7a6c203f-bcbb-4c52-8b85-7e6be3945044"
    }
   },
   "outputs": [],
   "source": [
    "### COMPARISON BETWEEN CLASSICAL AND ANALOG DATA ASSIMILATION\n",
    "\n",
    "# plot\n",
    "fig=plt.figure()\n",
    "ax=fig.gca(projection='3d')\n",
    "line1,=ax.plot(xt.values[:,0],xt.values[:,1],xt.values[:,2],'k')\n",
    "line2,=ax.plot(x_hat_analog.values[:,0],x_hat_analog.values[:,1],x_hat_analog.values[:,2],'r')\n",
    "line3,=ax.plot(x_hat_classical.values[:,0],x_hat_classical.values[:,1],x_hat_classical.values[:,2],'b')\n",
    "ax.set_xlabel('$x_1$');ax.set_ylabel('$x_2$');ax.set_zlabel('$x_3$')\n",
    "plt.legend([line1, line2, line3], ['True state', 'Analog data assimilation', 'Classical data assimilation'])\n",
    "plt.title('Reconstruction of Lorenz-63 trajectories')\n",
    "\n",
    "# error\n",
    "print('RMSE(analog DA)    = ' + str(AnDA_RMSE(xt.values,x_hat_analog.values)))\n",
    "print('RMSE(classical DA) = ' + str(AnDA_RMSE(xt.values,x_hat_classical.values)))"
   ]
  },
  {
   "cell_type": "markdown",
   "metadata": {
    "nbpresent": {
     "id": "971ff88b-e8dc-43dc-897e-71a7b6b659c0"
    }
   },
   "source": [
    "The results show that performances of the data-driven analog data assimilation are closed to those of the model-driven data assimilation. The error can be reduced by augmenting the size of the catalog \"nb_loop_train\"."
   ]
  },
  {
   "cell_type": "markdown",
   "metadata": {
    "nbpresent": {
     "id": "c4e459e9-33bc-43f1-91e8-5a5d05746979"
    }
   },
   "source": [
    "# TEST ON LORENZ-96\n",
    "\n",
    "We also test the analog data assimilation procedure on the 40-dimensional Lorenz-96 dynamical model. As in the previous experiment, we generate state and observation data as well as simulated trajectories of the Lorenz-96 model in order to emulate the dynamical model. Here, we compare two analog data assimilation strategies: the global and local analog forecasting, respectively defined in finding similar situations on the whole 40 variables or on 5 variables recursively."
   ]
  },
  {
   "cell_type": "code",
   "execution_count": null,
   "metadata": {
    "nbpresent": {
     "id": "b00e2703-18c9-46e3-b935-dd07e82d80e5"
    }
   },
   "outputs": [],
   "source": [
    "### GENERATE SIMULATED DATA (LORENZ-96 MODEL)\n",
    "\n",
    "# parameters\n",
    "class GD:\n",
    "    model = 'Lorenz_96'\n",
    "    class parameters:\n",
    "        F = 8\n",
    "        J = 40\n",
    "    dt_integration = 0.05 # integration time\n",
    "    dt_states = 1 # number of integration times between consecutive states (for xt and catalog)\n",
    "    dt_obs = 4 # number of integration times between consecutive observations (for yo)\n",
    "    var_obs = np.random.permutation(parameters.J)[0:20] # indices of the observed variables\n",
    "    nb_loop_train = 10**2 # size of the catalog\n",
    "    nb_loop_test = 10 # size of the true state and noisy observations\n",
    "    sigma2_catalog = 0   # variance of the model error to generate the catalog   \n",
    "    sigma2_obs = 2 # variance of the observation error to generate observations\n",
    "    \n",
    "# run the data generation\n",
    "catalog, xt, yo = AnDA_generate_data(GD)"
   ]
  },
  {
   "cell_type": "code",
   "execution_count": null,
   "metadata": {
    "nbpresent": {
     "id": "d1760a5b-8d30-43df-87d2-fa83c3bd6553"
    }
   },
   "outputs": [],
   "source": [
    "### PLOT STATE, OBSERVATIONS AND CATALOG\n",
    "\n",
    "# state and observations (when available)\n",
    "i_good_var=array([0,19,39])\n",
    "line1,=plt.plot(xt.time,xt.values[:,0],'-r');plt.plot(yo.time,yo.values[:,0],'.r')\n",
    "line2,=plt.plot(xt.time,xt.values[:,19],'-b');plt.plot(yo.time,yo.values[:,19],'.b')\n",
    "line3,=plt.plot(xt.time,xt.values[:,39],'-g');plt.plot(yo.time,yo.values[:,39],'.g')\n",
    "plt.xlabel('Lorenz-96 times')\n",
    "plt.legend([line1, line2, line3], ['$x_1$', '$x_{20}$', '$x_{40}$'])\n",
    "plt.title('Lorenz-96 true (continuous lines) and observed trajectories (points)')\n",
    "\n",
    "# catalog sample of simulated trajectories (only for 3 variables)\n",
    "print('#############################################')\n",
    "print('SAMPLE OF THE CATALOG (only x_1, x_20, x_40):')\n",
    "print('#############################################')\n",
    "print('Analog (t1): ' + str(catalog.analogs[0,i_good_var]), end=\" \")\n",
    "print('Successor (t1+dt): ' + str(catalog.successors[0,i_good_var]))\n",
    "print('Analog (t2): ' + str(catalog.analogs[15,i_good_var]), end=\" \")\n",
    "print('Successor (t2+dt): ' + str(catalog.successors[15,i_good_var]))\n",
    "print('Analog (t3): ' + str(catalog.analogs[30,i_good_var]), end=\" \")\n",
    "print('Successor (t3+dt): ' + str(catalog.successors[30,i_good_var]))"
   ]
  },
  {
   "cell_type": "code",
   "execution_count": null,
   "metadata": {
    "nbpresent": {
     "id": "604a659e-82bf-4618-95bf-77ef755b9088"
    }
   },
   "outputs": [],
   "source": [
    "# global neighborhood (40 variables)\n",
    "global_analog_matrix=np.ones([xt.values.shape[1],xt.values.shape[1]])\n",
    "\n",
    "# local neighborhood (5 variables)\n",
    "local_analog_matrix=np.eye(xt.values.shape[1])+np.diag(np.ones(xt.values.shape[1]-1),1)+ np.diag(np.ones(xt.values.shape[1]-1),-1)+ \\\n",
    "                   np.diag(np.ones(xt.values.shape[1]-2),2)+np.diag(np.ones(xt.values.shape[1]-2),-2)+\\\n",
    "                   np.diag(np.ones(xt.values.shape[1]-(GD.parameters.J-2)),GD.parameters.J-2)+np.diag(np.ones(xt.values.shape[1]-(GD.parameters.J-2)),GD.parameters.J-2).T+\\\n",
    "                   np.diag(np.ones(xt.values.shape[1]-(GD.parameters.J-1)),GD.parameters.J-1)+np.diag(np.ones(xt.values.shape[1]-(GD.parameters.J-1)),GD.parameters.J-1).T\n",
    "\n",
    "# plot\n",
    "subplot(1,2,1);pcolor(global_analog_matrix,cmap='Greys');clim([0,1]);title('Matrix of global analogs (white=0, black=1)')\n",
    "subplot(1,2,2);pcolor(local_analog_matrix,cmap='Greys');clim([0,1]);title('Matrix of local analogs (white=0, black=1)')"
   ]
  },
  {
   "cell_type": "markdown",
   "metadata": {
    "nbpresent": {
     "id": "150c861c-fecc-4dfc-8bb7-c54189d675cb"
    }
   },
   "source": [
    "To define the local or global analog forecasting, we generate different matrices that will be use as the \"AF.neighborhood\" argument. For each variable of the system, we use 0 or 1 to indicate the absence or presence of other variables in the analog forecasting procedure. For instance, in the local analog matrix defined above, to predict the variable $x_2$ at time t+dt, we will use the local variables $x_1$, $x_2$, $x_3$, $x_4$ and $x_{40}$ at time t."
   ]
  },
  {
   "cell_type": "code",
   "execution_count": null,
   "metadata": {
    "nbpresent": {
     "id": "8150ad94-0ca4-4664-99f2-16b477d0a987"
    }
   },
   "outputs": [],
   "source": [
    "### ANALOG DATA ASSIMILATION (with the global analogs)\n",
    "\n",
    "# parameters of the analog forecasting method\n",
    "class AF:\n",
    "    k = 100; # number of analogs\n",
    "    neighborhood = global_analog_matrix # global analogs\n",
    "    catalog = catalog # catalog with analogs and successors\n",
    "    regression = 'local_linear' # chosen regression ('locally_constant', 'increment', 'local_linear')\n",
    "    sampling = 'gaussian' # chosen sampler ('gaussian', 'multinomial')\n",
    "\n",
    "# parameters of the filtering method\n",
    "class DA:\n",
    "    method = 'AnEnKS' # chosen method ('AnEnKF', 'AnEnKS', 'AnPF')\n",
    "    N = 500 # number of members (AnEnKF/AnEnKS) or particles (AnPF)\n",
    "    xb = xt.values[0,:]; B = 0.1*np.eye(xt.values.shape[1])\n",
    "    H = np.eye(xt.values.shape[1])\n",
    "    R = GD.sigma2_obs*np.eye(xt.values.shape[1])\n",
    "    @staticmethod\n",
    "    def m(x):\n",
    "        return AnDA_analog_forecasting(x,AF)\n",
    "    \n",
    "# run the analog data assimilation\n",
    "x_hat_analog_global = AnDA_data_assimilation(yo, DA)"
   ]
  },
  {
   "cell_type": "code",
   "execution_count": null,
   "metadata": {
    "nbpresent": {
     "id": "02cf2959-e712-4af8-8bb6-f914608e15ac"
    },
    "scrolled": true
   },
   "outputs": [],
   "source": [
    "### ANALOG DATA ASSIMILATION (with the local analogs)\n",
    "\n",
    "# parameters of the analog forecasting method\n",
    "class AF:\n",
    "    k = 100 # number of analogs\n",
    "    neighborhood = local_analog_matrix # local analogs\n",
    "    catalog = catalog # catalog with analogs and successors\n",
    "    regression = 'local_linear' # chosen regression ('locally_constant', 'increment', 'local_linear')\n",
    "    sampling = 'gaussian' # chosen sampler ('gaussian', 'multinomial')\n",
    "\n",
    "# parameters of the filtering method\n",
    "class DA:\n",
    "    method = 'AnEnKS' # chosen method ('AnEnKF', 'AnEnKS', 'AnPF')\n",
    "    N = 500 # number of members (AnEnKF/AnEnKS) or particles (AnPF)\n",
    "    xb = xt.values[0,:]; B = 0.1*np.eye(xt.values.shape[1])\n",
    "    H = np.eye(xt.values.shape[1])\n",
    "    R = GD.sigma2_obs*np.eye(xt.values.shape[1])\n",
    "    @staticmethod\n",
    "    def m(x):\n",
    "        return AnDA_analog_forecasting(x,AF)\n",
    "    \n",
    "# run the analog data assimilation\n",
    "x_hat_analog_local = AnDA_data_assimilation(yo, DA)"
   ]
  },
  {
   "cell_type": "code",
   "execution_count": null,
   "metadata": {
    "nbpresent": {
     "id": "35f54171-6e87-4b0f-9cb2-821d9c0d8b96"
    },
    "scrolled": false
   },
   "outputs": [],
   "source": [
    "### COMPARISON BETWEEN GLOBAL AND LOCAL ANALOG DATA ASSIMILATION\n",
    "\n",
    "# plot\n",
    "[X,Y]=meshgrid(range(GD.parameters.J),xt.time)\n",
    "subplot(2,2,1);pcolor(X,Y,xt.values);xlim([0,GD.parameters.J-1]);clim([-10,10]);ylabel('Lorenz-96 times');title('True trajectories')\n",
    "subplot(2,2,2);pcolor(X,Y,ma.masked_where(isnan(yo.values),yo.values));xlim([0,GD.parameters.J-1]);clim([-10,10]);ylabel('Lorenz-96 times');title('Observed trajectories')\n",
    "subplot(2,2,3);pcolor(X,Y,x_hat_analog_global.values);xlim([0,GD.parameters.J-1]);clim([-10,10]);ylabel('Lorenz-96 times');title('Global analog data assimilation')\n",
    "subplot(2,2,4);pcolor(X,Y,x_hat_analog_local.values);xlim([0,GD.parameters.J-1]);clim([-10,10]);ylabel('Lorenz-96 times');title('Local analog data assimilation')\n",
    "\n",
    "# error\n",
    "print('RMSE(global analog DA) = ' + str(AnDA_RMSE(xt.values,x_hat_analog_global.values)))\n",
    "print('RMSE(local analog DA)  = ' + str(AnDA_RMSE(xt.values,x_hat_analog_local.values)))"
   ]
  },
  {
   "cell_type": "markdown",
   "metadata": {
    "nbpresent": {
     "id": "3c8d57d0-c7b5-4ec6-9ecb-d91aaffbf836"
    }
   },
   "source": [
    "The results show that the global analog strategy do not reach satisfying results. Indeed, it is difficult to find relevant nearest neighboors on 40-dimensional vectors. The only way to improve the results in such a global strategy is to deeply increase the size of the catalog. At the contrary, in the local analog data assimilation, we are able to track correctly the true trajectories, even with a short catalog."
   ]
  },
  {
   "cell_type": "markdown",
   "metadata": {
    "nbpresent": {
     "id": "8f5b99c6-6771-4a2f-8ff5-f6693d6b9916"
    }
   },
   "source": [
    "# Remark\n",
    "\n",
    "Note that for all the previous experiments, we use the robust Ensemble Kalman Smoother (EnKS) with the increment or local linear regressions and the Gaussian sampling. If you want to have realistic state estimations, we preconize the use of the Particle Filter (DA.method = 'PF') with the locally constant regression (AF.regression = 'locally_constant') and the multinomial sampler (AF.sampling = 'multinomial') with a large number of particles (DA.N). For more details about the different options, see the attached publication: Lguensat, R., Tandeo, P., Ailliot, P., Pulido, M., & Fablet, R. (2017). The Analog Data Assimilation. *Monthly Weather Review*, 145(10), 4093-4107."
   ]
  }
 ],
 "metadata": {
  "anaconda-cloud": {},
  "kernelspec": {
   "display_name": "Python 3",
   "language": "python",
   "name": "python3"
  },
  "language_info": {
   "codemirror_mode": {
    "name": "ipython",
    "version": 3
   },
   "file_extension": ".py",
   "mimetype": "text/x-python",
   "name": "python",
   "nbconvert_exporter": "python",
   "pygments_lexer": "ipython3",
   "version": "3.7.7"
  },
  "nbpresent": {
   "slides": {
    "1d42f838-0c49-4169-ace3-6cbe2ef3bcb8": {
     "id": "1d42f838-0c49-4169-ace3-6cbe2ef3bcb8",
     "prev": "a79bbd87-5da4-453d-b024-19a2123d05bd",
     "regions": {
      "1265fdae-ba33-4f63-bb1b-066a18e00ea9": {
       "attrs": {
        "height": 0.8,
        "width": 0.8,
        "x": 0.1,
        "y": 0.1
       },
       "content": {
        "cell": "d1760a5b-8d30-43df-87d2-fa83c3bd6553",
        "part": "whole"
       },
       "id": "1265fdae-ba33-4f63-bb1b-066a18e00ea9"
      }
     }
    },
    "2ced89bd-2571-4751-aebc-f597ccefbe76": {
     "id": "2ced89bd-2571-4751-aebc-f597ccefbe76",
     "prev": "add23d58-b14d-49d8-b2aa-577f38d2e1e2",
     "regions": {
      "17b915d1-242d-4df1-82e2-63084727c865": {
       "attrs": {
        "height": 0.8,
        "width": 0.8,
        "x": 0.1,
        "y": 0.1
       },
       "content": {
        "cell": "3c8d57d0-c7b5-4ec6-9ecb-d91aaffbf836",
        "part": "whole"
       },
       "id": "17b915d1-242d-4df1-82e2-63084727c865"
      }
     }
    },
    "336153f3-0ab5-44bc-a573-edaf69c0b238": {
     "id": "336153f3-0ab5-44bc-a573-edaf69c0b238",
     "prev": "42177add-a63c-4114-b63f-3ddf964ef110",
     "regions": {
      "ba96f47c-67a0-4f8e-8aa5-df9e5aaacc1f": {
       "attrs": {
        "height": 0.8,
        "width": 0.8,
        "x": 0.1,
        "y": 0.1
       },
       "content": {
        "cell": "837aa478-c139-42fb-9609-b0a98c79fae1",
        "part": "whole"
       },
       "id": "ba96f47c-67a0-4f8e-8aa5-df9e5aaacc1f"
      }
     }
    },
    "42177add-a63c-4114-b63f-3ddf964ef110": {
     "id": "42177add-a63c-4114-b63f-3ddf964ef110",
     "prev": "724df457-c17c-4540-b34c-7bef5cb716ca",
     "regions": {
      "54f1cdca-2aa4-4698-8246-2a1c5e145547": {
       "attrs": {
        "height": 0.8,
        "width": 0.8,
        "x": 0.1,
        "y": 0.1
       },
       "content": {
        "cell": "241f9ce2-fe11-4533-be8f-991a700f3920",
        "part": "whole"
       },
       "id": "54f1cdca-2aa4-4698-8246-2a1c5e145547"
      }
     }
    },
    "5828c160-102d-4b0b-a02e-a1347935177e": {
     "id": "5828c160-102d-4b0b-a02e-a1347935177e",
     "prev": "aa2c9167-4c71-4984-8932-50f07ece09ee",
     "regions": {
      "844a550a-1b12-4ed5-996d-bdc5c6673cfb": {
       "attrs": {
        "height": 0.8,
        "width": 0.8,
        "x": 0.1,
        "y": 0.1
       },
       "content": {
        "cell": "150c861c-fecc-4dfc-8bb7-c54189d675cb",
        "part": "whole"
       },
       "id": "844a550a-1b12-4ed5-996d-bdc5c6673cfb"
      }
     }
    },
    "67ee6b5b-5315-44b8-ae26-5f1cd7459cdf": {
     "id": "67ee6b5b-5315-44b8-ae26-5f1cd7459cdf",
     "prev": "78cfb209-fb42-41a3-9b67-2d8976535bfd",
     "regions": {
      "69ee6591-33f8-486f-abd2-80b224924624": {
       "attrs": {
        "height": 0.8,
        "width": 0.8,
        "x": 0.1,
        "y": 0.1
       },
       "content": {
        "cell": "f975dd20-65cf-43f8-8a6e-96f2acbad4e4",
        "part": "whole"
       },
       "id": "69ee6591-33f8-486f-abd2-80b224924624"
      }
     }
    },
    "724df457-c17c-4540-b34c-7bef5cb716ca": {
     "id": "724df457-c17c-4540-b34c-7bef5cb716ca",
     "prev": "9fe87c5b-707b-4b01-b745-e8ded89e9df3",
     "regions": {
      "240d4d84-1531-44fe-a100-4420357b11d5": {
       "attrs": {
        "height": 0.8,
        "width": 0.8,
        "x": 0.1,
        "y": 0.1
       },
       "content": {
        "cell": "81f56606-9081-47fd-8968-13d85c93063c",
        "part": "whole"
       },
       "id": "240d4d84-1531-44fe-a100-4420357b11d5"
      }
     }
    },
    "77584b6a-a79a-4c2a-9877-16ceb1f8abd0": {
     "id": "77584b6a-a79a-4c2a-9877-16ceb1f8abd0",
     "prev": "5828c160-102d-4b0b-a02e-a1347935177e",
     "regions": {
      "8c07716a-3ea3-46ee-9c54-ad6fc7312519": {
       "attrs": {
        "height": 0.8,
        "width": 0.8,
        "x": 0.1,
        "y": 0.1
       },
       "content": {
        "cell": "8150ad94-0ca4-4664-99f2-16b477d0a987",
        "part": "whole"
       },
       "id": "8c07716a-3ea3-46ee-9c54-ad6fc7312519"
      }
     }
    },
    "78cfb209-fb42-41a3-9b67-2d8976535bfd": {
     "id": "78cfb209-fb42-41a3-9b67-2d8976535bfd",
     "prev": "c903fa48-923d-4a62-9cb0-bb5947fd72fc",
     "regions": {
      "ccafd74d-69fc-4fee-a9d4-a08c42b93603": {
       "attrs": {
        "height": 0.8,
        "width": 0.8,
        "x": 0.1,
        "y": 0.1
       },
       "content": {
        "cell": "af657441-0912-4749-b537-6e1734f875bb",
        "part": "whole"
       },
       "id": "ccafd74d-69fc-4fee-a9d4-a08c42b93603"
      }
     }
    },
    "7adb904a-fb6f-4d67-94d8-4c711e07ac11": {
     "id": "7adb904a-fb6f-4d67-94d8-4c711e07ac11",
     "prev": "d17e8d89-9e35-46c9-b929-566d91fdb7f1",
     "regions": {
      "7ea089b6-47be-4579-9234-db684b9d36a5": {
       "attrs": {
        "height": 0.8,
        "width": 0.8,
        "x": 0.1,
        "y": 0.1
       },
       "content": {
        "cell": "c4e459e9-33bc-43f1-91e8-5a5d05746979",
        "part": "whole"
       },
       "id": "7ea089b6-47be-4579-9234-db684b9d36a5"
      }
     }
    },
    "9563799e-a48a-4472-be8d-4d8cd293d2ad": {
     "id": "9563799e-a48a-4472-be8d-4d8cd293d2ad",
     "prev": "f27ef294-a3b8-4e5c-9050-45addbe0b149",
     "regions": {
      "98b47946-ed94-4959-9d5f-02151a5ec080": {
       "attrs": {
        "height": 0.8,
        "width": 0.8,
        "x": 0.1,
        "y": 0.1
       },
       "content": {
        "cell": "7a6c203f-bcbb-4c52-8b85-7e6be3945044",
        "part": "whole"
       },
       "id": "98b47946-ed94-4959-9d5f-02151a5ec080"
      }
     }
    },
    "9fe87c5b-707b-4b01-b745-e8ded89e9df3": {
     "id": "9fe87c5b-707b-4b01-b745-e8ded89e9df3",
     "prev": "67ee6b5b-5315-44b8-ae26-5f1cd7459cdf",
     "regions": {
      "88a6792f-b8da-46f8-9d2f-4f7eb16621dd": {
       "attrs": {
        "height": 0.8,
        "width": 0.8,
        "x": 0.1,
        "y": 0.1
       },
       "content": {
        "cell": "702967c4-5161-4544-a9f1-88cd5d0155da",
        "part": "whole"
       },
       "id": "88a6792f-b8da-46f8-9d2f-4f7eb16621dd"
      }
     }
    },
    "a79bbd87-5da4-453d-b024-19a2123d05bd": {
     "id": "a79bbd87-5da4-453d-b024-19a2123d05bd",
     "prev": "7adb904a-fb6f-4d67-94d8-4c711e07ac11",
     "regions": {
      "4f5dad50-8402-438d-a99a-65f489665bcb": {
       "attrs": {
        "height": 0.8,
        "width": 0.8,
        "x": 0.1,
        "y": 0.1
       },
       "content": {
        "cell": "b00e2703-18c9-46e3-b935-dd07e82d80e5",
        "part": "whole"
       },
       "id": "4f5dad50-8402-438d-a99a-65f489665bcb"
      }
     }
    },
    "aa2c9167-4c71-4984-8932-50f07ece09ee": {
     "id": "aa2c9167-4c71-4984-8932-50f07ece09ee",
     "prev": "1d42f838-0c49-4169-ace3-6cbe2ef3bcb8",
     "regions": {
      "320b99ad-7a18-4224-a500-b94e65a48833": {
       "attrs": {
        "height": 0.8,
        "width": 0.8,
        "x": 0.1,
        "y": 0.1
       },
       "content": {
        "cell": "604a659e-82bf-4618-95bf-77ef755b9088",
        "part": "whole"
       },
       "id": "320b99ad-7a18-4224-a500-b94e65a48833"
      }
     }
    },
    "ad8135f7-ac79-4ac1-a610-10a935b49a98": {
     "id": "ad8135f7-ac79-4ac1-a610-10a935b49a98",
     "prev": "2ced89bd-2571-4751-aebc-f597ccefbe76",
     "regions": {
      "0e52e387-23f1-4ed3-9940-8c389e971206": {
       "attrs": {
        "height": 0.8,
        "width": 0.8,
        "x": 0.1,
        "y": 0.1
       },
       "content": {
        "cell": "8f5b99c6-6771-4a2f-8ff5-f6693d6b9916",
        "part": "whole"
       },
       "id": "0e52e387-23f1-4ed3-9940-8c389e971206"
      }
     }
    },
    "add23d58-b14d-49d8-b2aa-577f38d2e1e2": {
     "id": "add23d58-b14d-49d8-b2aa-577f38d2e1e2",
     "prev": "ee4674c1-f707-4364-8f98-920a3a4dccdd",
     "regions": {
      "4ff09800-dc8f-4d70-a6fa-122728d7b7ce": {
       "attrs": {
        "height": 0.8,
        "width": 0.8,
        "x": 0.1,
        "y": 0.1
       },
       "content": {
        "cell": "35f54171-6e87-4b0f-9cb2-821d9c0d8b96",
        "part": "whole"
       },
       "id": "4ff09800-dc8f-4d70-a6fa-122728d7b7ce"
      }
     }
    },
    "c903fa48-923d-4a62-9cb0-bb5947fd72fc": {
     "id": "c903fa48-923d-4a62-9cb0-bb5947fd72fc",
     "prev": null,
     "regions": {
      "9af22ce6-60f7-4b0f-b583-587632ca1c4d": {
       "attrs": {
        "height": 0.8,
        "width": 0.8,
        "x": 0.1,
        "y": 0.1
       },
       "content": {
        "cell": "76428090-b279-4d85-b5bc-e0fdefafc294",
        "part": "whole"
       },
       "id": "9af22ce6-60f7-4b0f-b583-587632ca1c4d"
      }
     }
    },
    "d17e8d89-9e35-46c9-b929-566d91fdb7f1": {
     "id": "d17e8d89-9e35-46c9-b929-566d91fdb7f1",
     "prev": "9563799e-a48a-4472-be8d-4d8cd293d2ad",
     "regions": {
      "8014a801-52b8-4b31-b0b3-57c09db3642a": {
       "attrs": {
        "height": 0.8,
        "width": 0.8,
        "x": 0.1,
        "y": 0.1
       },
       "content": {
        "cell": "971ff88b-e8dc-43dc-897e-71a7b6b659c0",
        "part": "whole"
       },
       "id": "8014a801-52b8-4b31-b0b3-57c09db3642a"
      }
     }
    },
    "ee4674c1-f707-4364-8f98-920a3a4dccdd": {
     "id": "ee4674c1-f707-4364-8f98-920a3a4dccdd",
     "prev": "77584b6a-a79a-4c2a-9877-16ceb1f8abd0",
     "regions": {
      "88808a64-d487-4a72-b74f-5b1db506cbec": {
       "attrs": {
        "height": 0.8,
        "width": 0.8,
        "x": 0.1,
        "y": 0.1
       },
       "content": {
        "cell": "02cf2959-e712-4af8-8bb6-f914608e15ac",
        "part": "whole"
       },
       "id": "88808a64-d487-4a72-b74f-5b1db506cbec"
      }
     }
    },
    "f27ef294-a3b8-4e5c-9050-45addbe0b149": {
     "id": "f27ef294-a3b8-4e5c-9050-45addbe0b149",
     "prev": "336153f3-0ab5-44bc-a573-edaf69c0b238",
     "regions": {
      "c15a426b-5006-40a7-b0ef-45a7aa142ea6": {
       "attrs": {
        "height": 0.8,
        "width": 0.8,
        "x": 0.1,
        "y": 0.1
       },
       "content": {
        "cell": "3ed39876-5608-4f08-ba3c-a08d1c1d2c84",
        "part": "whole"
       },
       "id": "c15a426b-5006-40a7-b0ef-45a7aa142ea6"
      }
     }
    }
   },
   "themes": {}
  }
 },
 "nbformat": 4,
 "nbformat_minor": 1
}
